{
 "cells": [
  {
   "cell_type": "code",
   "execution_count": 5,
   "id": "5a37083b-f635-4cd9-bd62-729025fbe8f0",
   "metadata": {},
   "outputs": [
    {
     "name": "stdout",
     "output_type": "stream",
     "text": [
      "\n",
      "\n",
      "Quection for Rs: 10000.\n",
      "Quection 1: Which of the following is the correct extension of a Python file?\n",
      "1.  .python                      2.  .pl                 \n",
      "3.  .py                          4.  .p                  \n"
     ]
    },
    {
     "name": "stdin",
     "output_type": "stream",
     "text": [
      "Enter your answer(1,2,3,4) or 0 to quti:\n",
      " 3\n"
     ]
    },
    {
     "name": "stdout",
     "output_type": "stream",
     "text": [
      "Correct Answer, you have won Rs. 10000. \n",
      "\n",
      "\n",
      "Quection for Rs: 20000.\n",
      "Quection 2: What do we use to define a block of code in Python?\n",
      "1.  Curly braces { }             2.  Parentheses ( )     \n",
      "3.  Indentation                  4.  Square brackets [ ] \n"
     ]
    },
    {
     "name": "stdin",
     "output_type": "stream",
     "text": [
      "Enter your answer(1,2,3,4) or 0 to quti:\n",
      " 0\n"
     ]
    },
    {
     "name": "stdout",
     "output_type": "stream",
     "text": [
      "Your Take Home Money is Rs. 10000\n"
     ]
    }
   ],
   "source": [
    "questions = [\n",
    "    [0],\n",
    "    [\"Which of the following is the correct extension of a Python file?\", \".python\", \".pl\", \".py\", \".p\", 3],\n",
    "    [\"What do we use to define a block of code in Python?\", \"Curly braces { }\", \"Parentheses ( )\", \"Indentation\", \"Square brackets [ ]\", 3],\n",
    "    [\"Which of the following is a Python keyword?\", \"switch\", \"def\", \"function\", \"constant\", 2],\n",
    "    [\"What is the output of print(type(10))?\", \"<class 'float'>\", \"<class 'int'>\", \"<class 'number'>\", \"<class 'long'>\", 2],\n",
    "    [\"What is the correct syntax for creating a function in Python?\", \"function myfunc():\", \"def myfunc():\", \"create myfunc():\", \"func myfunc():\", 2],\n",
    "    [\"Which of the following is not a core data type in Python?\", \"Lists\", \"Dictionary\", \"Tuples\", \"Class\", 4],\n",
    "    [\"Which of the following operators is used for exponentiation in Python??\", \"%\", \"**\", \"//\", \"^\", 2],\n",
    "    [\"How do you insert COMMENTS in Python code?\", \"/* comment */\", \"// comment\", \"# comment\",\"<!-- comment -->\", 3],\n",
    "    [\"What is the output of the following expression: 3 * 1 ** 3?\", \"9\", \"3\", \"27\", \"1\", 2],\n",
    "    [\"Which of these collections defines a mutable data type in Python?\", \"Tuple\", \"List\", \"String\", \"All of the above\", 2],\n",
    "    [\"Which method is used to convert an object into a string in Python?\", \"int()\", \"str()\", \"repr()\", \"type()\", 2],\n",
    "    [\"Which function is used to obtain the length of a list in Python?\", \"length()\", \"size()\", \"len()\", \"listlen()\", 3],\n",
    "    [\"Which of the following is the correct syntax for a for loop in Python?\", \"for i in range(5)\", \"for i to range(5):\", \"foreach i in range(5):\", \"loop for i in range(5):\", 1],\n",
    "    [\"What is the result of the following code: bool(0)?\", \"True\", \"False\", \"None\", \"Error\", 2],\n",
    "    [\"Which of the following is the correct way to read the first character of a string s in Python?\", \"s[0]\", \"charAt(s, 0)\", \"s.charAt(0)\", \"first(s)\", 1],\n",
    "    [\"Which Python statement is used to handle exceptions?\", \"try\", \"except\", \"finally\", \"All of the above\", 4],\n",
    "    [\"What is the correct syntax for a while loop in Python?\", \"while (i < 5):\", \"while i < 5 {\", \"while i < 5:\", \"while (i < 5)\", 3],\n",
    "    [\"What is the output of 2 + 3 * 5 in Python?\", \"25\", \"17\", \"15\", \"10\", 2],\n",
    "    [\"How do you generate random numbers in Python?\", \"import random\", \"import math\", \"import numbers\", \"import os\", 1],\n",
    "    [\"What is the result of the following operation: '5' + '5'?\", \"55\", \"10\", \"TypeError\", \"5\", 1],    \n",
    "]\n",
    "level = [0,10000,20000,30000,40000,50000,100000,200000,300000,400000,500000,1000000,2000000,3000000,4000000,5000000,10000000,20000000,30000000,40000000,50000000]\n",
    "money = 0\n",
    "for i in range(1, len(questions)): \n",
    "    quection = questions[i]\n",
    "    print(f\"\\n\\nQuection for Rs: {level[i]}.\")\n",
    "    print(f\"Quection {i}: {quection[0]}\")\n",
    "    print(f\"1.  {questions[i][1]:<20}         2.  {questions[i][2]:<20}\")\n",
    "    print(f\"3.  {questions[i][3]:<20}         4.  {questions[i][4]:<20}\")\n",
    "    reply = int(input(\"Enter your answer(1,2,3,4) or 0 to quti:\\n\"))\n",
    "    if reply == 0: \n",
    "        money = level[i-1]\n",
    "        break\n",
    "    if (reply == questions[i][-1]): \n",
    "        print(f\"Correct Answer, you have won Rs. {level[i]}. \")\n",
    "        if i == 5:\n",
    "            money = \"50000/-\"\n",
    "        elif i == 10:\n",
    "            money = \"5 Lak/-\"\n",
    "        elif i == 15:\n",
    "            money = \"50 Lak/-\"\n",
    "        elif i == 20:\n",
    "            money = \"5 Crore/-\"\n",
    "    else: \n",
    "        print(\"Wrong Answer\")\n",
    "        break\n",
    "print(f\"Your Take Home Money is Rs. {money}\")"
   ]
  },
  {
   "cell_type": "code",
   "execution_count": null,
   "id": "7e7c7b65-e15f-4813-aa2d-0ef861827d93",
   "metadata": {},
   "outputs": [],
   "source": []
  }
 ],
 "metadata": {
  "kernelspec": {
   "display_name": "Python 3 (ipykernel)",
   "language": "python",
   "name": "python3"
  },
  "language_info": {
   "codemirror_mode": {
    "name": "ipython",
    "version": 3
   },
   "file_extension": ".py",
   "mimetype": "text/x-python",
   "name": "python",
   "nbconvert_exporter": "python",
   "pygments_lexer": "ipython3",
   "version": "3.11.7"
  },
  "widgets": {
   "application/vnd.jupyter.widget-state+json": {
    "state": {},
    "version_major": 2,
    "version_minor": 0
   }
  }
 },
 "nbformat": 4,
 "nbformat_minor": 5
}
